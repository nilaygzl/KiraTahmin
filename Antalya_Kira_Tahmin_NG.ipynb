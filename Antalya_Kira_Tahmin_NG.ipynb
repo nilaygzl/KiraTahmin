{
  "metadata": {
    "kernelspec": {
      "language": "python",
      "display_name": "Python 3",
      "name": "python3"
    },
    "language_info": {
      "name": "python",
      "version": "3.10.13",
      "mimetype": "text/x-python",
      "codemirror_mode": {
        "name": "ipython",
        "version": 3
      },
      "pygments_lexer": "ipython3",
      "nbconvert_exporter": "python",
      "file_extension": ".py"
    },
    "kaggle": {
      "accelerator": "none",
      "dataSources": [
        {
          "sourceId": 8764348,
          "sourceType": "datasetVersion",
          "datasetId": 5266094
        }
      ],
      "dockerImageVersionId": 30732,
      "isInternetEnabled": true,
      "language": "python",
      "sourceType": "notebook",
      "isGpuEnabled": false
    },
    "colab": {
      "provenance": [],
      "name": "Antalya_Kira_Tahmin_NG",
      "include_colab_link": true
    }
  },
  "nbformat_minor": 0,
  "nbformat": 4,
  "cells": [
    {
      "cell_type": "markdown",
      "metadata": {
        "id": "view-in-github",
        "colab_type": "text"
      },
      "source": [
        "<a href=\"https://colab.research.google.com/github/nilaygzl/KiraTahmin/blob/main/Antalya_Kira_Tahmin_NG.ipynb\" target=\"_parent\"><img src=\"https://colab.research.google.com/assets/colab-badge.svg\" alt=\"Open In Colab\"/></a>"
      ]
    },
    {
      "source": [
        "\n",
        "# IMPORTANT: RUN THIS CELL IN ORDER TO IMPORT YOUR KAGGLE DATA SOURCES\n",
        "# TO THE CORRECT LOCATION (/kaggle/input) IN YOUR NOTEBOOK,\n",
        "# THEN FEEL FREE TO DELETE THIS CELL.\n",
        "# NOTE: THIS NOTEBOOK ENVIRONMENT DIFFERS FROM KAGGLE'S PYTHON\n",
        "# ENVIRONMENT SO THERE MAY BE MISSING LIBRARIES USED BY YOUR\n",
        "# NOTEBOOK.\n",
        "\n",
        "import os\n",
        "import sys\n",
        "from tempfile import NamedTemporaryFile\n",
        "from urllib.request import urlopen\n",
        "from urllib.parse import unquote, urlparse\n",
        "from urllib.error import HTTPError\n",
        "from zipfile import ZipFile\n",
        "import tarfile\n",
        "import shutil\n",
        "\n",
        "CHUNK_SIZE = 40960\n",
        "DATA_SOURCE_MAPPING = ':https%3A%2F%2Fstorage.googleapis.com%2Fkaggle-data-sets%2F5266094%2F8764348%2Fbundle%2Farchive.zip%3FX-Goog-Algorithm%3DGOOG4-RSA-SHA256%26X-Goog-Credential%3Dgcp-kaggle-com%2540kaggle-161607.iam.gserviceaccount.com%252F20240716%252Fauto%252Fstorage%252Fgoog4_request%26X-Goog-Date%3D20240716T130608Z%26X-Goog-Expires%3D259200%26X-Goog-SignedHeaders%3Dhost%26X-Goog-Signature%3D0a1dea39d77ea48294b77820e1af8f93c9694bf30f56fb879ed1e0e08d7d9cd440288f6d2c7b709c9dad6c2d7377c3babca41c549e9d7bc36e22a194182bde6406263b119c05cc3277eeb4e4317b17f00a6943963427f4d1fa5742a9b5332419fa808a13dcfd06b9ec69ccf5b85a69c29ba59b2c134a277a2934a80ae1843091d300a7ec945b1b89a5a91951273f274f8a012afc2aff41d1560b2496811db018b2dd9f6db37b1cad3ca2cb68c18a72d945b6b51b38d516f4e9e4784ba60e2c60c62617395929bb4020f370688edc0e947eece248e3cc07c76fbd8f0a6112ef9247c965165f121efa8149586f37a385099bd5a93a13da6dd72deb1819b6024dfe'\n",
        "\n",
        "KAGGLE_INPUT_PATH='/kaggle/input'\n",
        "KAGGLE_WORKING_PATH='/kaggle/working'\n",
        "KAGGLE_SYMLINK='kaggle'\n",
        "\n",
        "!umount /kaggle/input/ 2> /dev/null\n",
        "shutil.rmtree('/kaggle/input', ignore_errors=True)\n",
        "os.makedirs(KAGGLE_INPUT_PATH, 0o777, exist_ok=True)\n",
        "os.makedirs(KAGGLE_WORKING_PATH, 0o777, exist_ok=True)\n",
        "\n",
        "try:\n",
        "  os.symlink(KAGGLE_INPUT_PATH, os.path.join(\"..\", 'input'), target_is_directory=True)\n",
        "except FileExistsError:\n",
        "  pass\n",
        "try:\n",
        "  os.symlink(KAGGLE_WORKING_PATH, os.path.join(\"..\", 'working'), target_is_directory=True)\n",
        "except FileExistsError:\n",
        "  pass\n",
        "\n",
        "for data_source_mapping in DATA_SOURCE_MAPPING.split(','):\n",
        "    directory, download_url_encoded = data_source_mapping.split(':')\n",
        "    download_url = unquote(download_url_encoded)\n",
        "    filename = urlparse(download_url).path\n",
        "    destination_path = os.path.join(KAGGLE_INPUT_PATH, directory)\n",
        "    try:\n",
        "        with urlopen(download_url) as fileres, NamedTemporaryFile() as tfile:\n",
        "            total_length = fileres.headers['content-length']\n",
        "            print(f'Downloading {directory}, {total_length} bytes compressed')\n",
        "            dl = 0\n",
        "            data = fileres.read(CHUNK_SIZE)\n",
        "            while len(data) > 0:\n",
        "                dl += len(data)\n",
        "                tfile.write(data)\n",
        "                done = int(50 * dl / int(total_length))\n",
        "                sys.stdout.write(f\"\\r[{'=' * done}{' ' * (50-done)}] {dl} bytes downloaded\")\n",
        "                sys.stdout.flush()\n",
        "                data = fileres.read(CHUNK_SIZE)\n",
        "            if filename.endswith('.zip'):\n",
        "              with ZipFile(tfile) as zfile:\n",
        "                zfile.extractall(destination_path)\n",
        "            else:\n",
        "              with tarfile.open(tfile.name) as tarfile:\n",
        "                tarfile.extractall(destination_path)\n",
        "            print(f'\\nDownloaded and uncompressed: {directory}')\n",
        "    except HTTPError as e:\n",
        "        print(f'Failed to load (likely expired) {download_url} to path {destination_path}')\n",
        "        continue\n",
        "    except OSError as e:\n",
        "        print(f'Failed to load {download_url} to path {destination_path}')\n",
        "        continue\n",
        "\n",
        "print('Data source import complete.')\n"
      ],
      "metadata": {
        "id": "Js14fqDppoc2"
      },
      "cell_type": "code",
      "outputs": [],
      "execution_count": null
    },
    {
      "cell_type": "code",
      "source": [
        "\n",
        "# IMPORTANT: RUN THIS CELL IN ORDER TO IMPORT YOUR KAGGLE DATA SOURCES\n",
        "# TO THE CORRECT LOCATION (/kaggle/input) IN YOUR NOTEBOOK,\n",
        "# THEN FEEL FREE TO DELETE THIS CELL.\n",
        "# NOTE: THIS NOTEBOOK ENVIRONMENT DIFFERS FROM KAGGLE'S PYTHON\n",
        "# ENVIRONMENT SO THERE MAY BE MISSING LIBRARIES USED BY YOUR\n",
        "# NOTEBOOK.\n",
        "\n",
        "import os\n",
        "import sys\n",
        "from tempfile import NamedTemporaryFile\n",
        "from urllib.request import urlopen\n",
        "from urllib.parse import unquote, urlparse\n",
        "from urllib.error import HTTPError\n",
        "from zipfile import ZipFile\n",
        "import tarfile\n",
        "import shutil\n",
        "\n",
        "CHUNK_SIZE = 40960\n",
        "DATA_SOURCE_MAPPING = ':https%3A%2F%2Fstorage.googleapis.com%2Fkaggle-data-sets%2F5266094%2F8764348%2Fbundle%2Farchive.zip%3FX-Goog-Algorithm%3DGOOG4-RSA-SHA256%26X-Goog-Credential%3Dgcp-kaggle-com%2540kaggle-161607.iam.gserviceaccount.com%252F20240703%252Fauto%252Fstorage%252Fgoog4_request%26X-Goog-Date%3D20240703T100723Z%26X-Goog-Expires%3D259200%26X-Goog-SignedHeaders%3Dhost%26X-Goog-Signature%3Daf6848e8a5ae1eae6402e004e5f7007fde0efccb89c7e4707f6197b798faee4df1b54743396214d12d4c40b26b2eedf48ab89f13e02f04cf462a3d9591a4b8a1b490ebb91dae9572e841702f4565fd1b84a3428d8dbc6529be57e27629fa427eaf8a123c4691fb7a6f7fd5ee24b35d2eb33098ce819b77599ea5a51712b180df1ee5823c33b188664ea5f0699dc3d5d26878b1880c0cf4de8656e56a5a0add449afb53581063dc7ced600d3b4dae72fbc8fbafa1a474d0ffea520f8a2af3ac325835f7273b22ffb8f8f4abea786496e95e1fdd351f8b12c36a6c50593d49cb1039381f40263cca9ce382e72a1232046e3c958689f17242e662b60db26196fa6a'\n",
        "\n",
        "KAGGLE_INPUT_PATH='/kaggle/input'\n",
        "KAGGLE_WORKING_PATH='/kaggle/working'\n",
        "KAGGLE_SYMLINK='kaggle'\n",
        "\n",
        "!umount /kaggle/input/ 2> /dev/null\n",
        "shutil.rmtree('/kaggle/input', ignore_errors=True)\n",
        "os.makedirs(KAGGLE_INPUT_PATH, 0o777, exist_ok=True)\n",
        "os.makedirs(KAGGLE_WORKING_PATH, 0o777, exist_ok=True)\n",
        "\n",
        "try:\n",
        "  os.symlink(KAGGLE_INPUT_PATH, os.path.join(\"..\", 'input'), target_is_directory=True)\n",
        "except FileExistsError:\n",
        "  pass\n",
        "try:\n",
        "  os.symlink(KAGGLE_WORKING_PATH, os.path.join(\"..\", 'working'), target_is_directory=True)\n",
        "except FileExistsError:\n",
        "  pass\n",
        "\n",
        "for data_source_mapping in DATA_SOURCE_MAPPING.split(','):\n",
        "    directory, download_url_encoded = data_source_mapping.split(':')\n",
        "    download_url = unquote(download_url_encoded)\n",
        "    filename = urlparse(download_url).path\n",
        "    destination_path = os.path.join(KAGGLE_INPUT_PATH, directory)\n",
        "    try:\n",
        "        with urlopen(download_url) as fileres, NamedTemporaryFile() as tfile:\n",
        "            total_length = fileres.headers['content-length']\n",
        "            print(f'Downloading {directory}, {total_length} bytes compressed')\n",
        "            dl = 0\n",
        "            data = fileres.read(CHUNK_SIZE)\n",
        "            while len(data) > 0:\n",
        "                dl += len(data)\n",
        "                tfile.write(data)\n",
        "                done = int(50 * dl / int(total_length))\n",
        "                sys.stdout.write(f\"\\r[{'=' * done}{' ' * (50-done)}] {dl} bytes downloaded\")\n",
        "                sys.stdout.flush()\n",
        "                data = fileres.read(CHUNK_SIZE)\n",
        "            if filename.endswith('.zip'):\n",
        "              with ZipFile(tfile) as zfile:\n",
        "                zfile.extractall(destination_path)\n",
        "            else:\n",
        "              with tarfile.open(tfile.name) as tarfile:\n",
        "                tarfile.extractall(destination_path)\n",
        "            print(f'\\nDownloaded and uncompressed: {directory}')\n",
        "    except HTTPError as e:\n",
        "        print(f'Failed to load (likely expired) {download_url} to path {destination_path}')\n",
        "        continue\n",
        "    except OSError as e:\n",
        "        print(f'Failed to load {download_url} to path {destination_path}')\n",
        "        continue\n",
        "\n",
        "print('Data source import complete.')\n"
      ],
      "metadata": {
        "id": "sR_nuEJrEDR7",
        "execution": {
          "iopub.status.busy": "2024-07-03T18:08:52.309386Z",
          "iopub.execute_input": "2024-07-03T18:08:52.309822Z",
          "iopub.status.idle": "2024-07-03T18:08:53.649708Z",
          "shell.execute_reply.started": "2024-07-03T18:08:52.309785Z",
          "shell.execute_reply": "2024-07-03T18:08:53.648257Z"
        },
        "trusted": true
      },
      "execution_count": null,
      "outputs": []
    },
    {
      "cell_type": "markdown",
      "source": [
        "## Kütüphaneleri Yükle ##"
      ],
      "metadata": {
        "id": "Da0PrYlbEDR-"
      }
    },
    {
      "cell_type": "code",
      "source": [
        "import numpy as np\n",
        "import pandas as pd\n",
        "import matplotlib.pyplot as plt\n",
        "import seaborn as sns\n",
        "import warnings\n",
        "warnings.filterwarnings(\"ignore\")"
      ],
      "metadata": {
        "id": "PkxsegmnEDSA",
        "execution": {
          "iopub.status.busy": "2024-07-03T18:09:06.85113Z",
          "iopub.execute_input": "2024-07-03T18:09:06.851552Z",
          "iopub.status.idle": "2024-07-03T18:09:07.972666Z",
          "shell.execute_reply.started": "2024-07-03T18:09:06.851518Z",
          "shell.execute_reply": "2024-07-03T18:09:07.971638Z"
        },
        "trusted": true
      },
      "execution_count": null,
      "outputs": []
    },
    {
      "cell_type": "markdown",
      "source": [
        "## Veri Setini Yükle ##"
      ],
      "metadata": {
        "id": "2CpJmZjIEDSA"
      }
    },
    {
      "cell_type": "code",
      "source": [
        "df=pd.read_csv(\"/kaggle/input/antalya_kiralik_ev.csv\")"
      ],
      "metadata": {
        "id": "0Ln3NtBvEDSB",
        "execution": {
          "iopub.status.busy": "2024-07-03T18:09:15.588986Z",
          "iopub.execute_input": "2024-07-03T18:09:15.589801Z",
          "iopub.status.idle": "2024-07-03T18:09:15.601504Z",
          "shell.execute_reply.started": "2024-07-03T18:09:15.589762Z",
          "shell.execute_reply": "2024-07-03T18:09:15.600397Z"
        },
        "trusted": true
      },
      "execution_count": null,
      "outputs": []
    },
    {
      "cell_type": "markdown",
      "source": [
        "## Keşifsel Veri Analizi ##"
      ],
      "metadata": {
        "id": "joctx42iEDSC"
      }
    },
    {
      "cell_type": "code",
      "source": [
        "df.head()"
      ],
      "metadata": {
        "id": "z-cKgaJNEDSC",
        "execution": {
          "iopub.status.busy": "2024-07-03T18:09:18.905943Z",
          "iopub.execute_input": "2024-07-03T18:09:18.906814Z",
          "iopub.status.idle": "2024-07-03T18:09:18.942264Z",
          "shell.execute_reply.started": "2024-07-03T18:09:18.906779Z",
          "shell.execute_reply": "2024-07-03T18:09:18.941131Z"
        },
        "trusted": true
      },
      "execution_count": null,
      "outputs": []
    },
    {
      "cell_type": "markdown",
      "source": [
        "## Unnamed: 0 Kolonunu Sil ##"
      ],
      "metadata": {
        "id": "aPtEW8-_EDSD"
      }
    },
    {
      "cell_type": "code",
      "source": [
        "df.drop(\"Unnamed: 0\",axis=1,inplace=True)"
      ],
      "metadata": {
        "id": "iSljvqs4EDSD",
        "execution": {
          "iopub.status.busy": "2024-07-03T18:09:22.889841Z",
          "iopub.execute_input": "2024-07-03T18:09:22.890719Z",
          "iopub.status.idle": "2024-07-03T18:09:22.902537Z",
          "shell.execute_reply.started": "2024-07-03T18:09:22.890679Z",
          "shell.execute_reply": "2024-07-03T18:09:22.901075Z"
        },
        "trusted": true
      },
      "execution_count": null,
      "outputs": []
    },
    {
      "cell_type": "code",
      "source": [
        "df.info()"
      ],
      "metadata": {
        "id": "DnI8S5xDEDSD",
        "execution": {
          "iopub.status.busy": "2024-07-03T18:09:26.290802Z",
          "iopub.execute_input": "2024-07-03T18:09:26.29163Z",
          "iopub.status.idle": "2024-07-03T18:09:26.316633Z",
          "shell.execute_reply.started": "2024-07-03T18:09:26.291587Z",
          "shell.execute_reply": "2024-07-03T18:09:26.315363Z"
        },
        "trusted": true
      },
      "execution_count": null,
      "outputs": []
    },
    {
      "cell_type": "code",
      "source": [
        "\n",
        "duplicate_rows = df[df.duplicated()]\n",
        "\n",
        "duplicate_rows"
      ],
      "metadata": {
        "id": "j8Qs5b9BTL0_",
        "execution": {
          "iopub.status.busy": "2024-07-03T18:09:29.426301Z",
          "iopub.execute_input": "2024-07-03T18:09:29.426765Z",
          "iopub.status.idle": "2024-07-03T18:09:29.462323Z",
          "shell.execute_reply.started": "2024-07-03T18:09:29.426731Z",
          "shell.execute_reply": "2024-07-03T18:09:29.460977Z"
        },
        "trusted": true
      },
      "execution_count": null,
      "outputs": []
    },
    {
      "cell_type": "code",
      "source": [
        "df= df.drop_duplicates()\n"
      ],
      "metadata": {
        "id": "d1drjGAQTYvB",
        "execution": {
          "iopub.status.busy": "2024-07-03T18:09:31.900003Z",
          "iopub.execute_input": "2024-07-03T18:09:31.900928Z",
          "iopub.status.idle": "2024-07-03T18:09:31.911068Z",
          "shell.execute_reply.started": "2024-07-03T18:09:31.900888Z",
          "shell.execute_reply": "2024-07-03T18:09:31.909854Z"
        },
        "trusted": true
      },
      "execution_count": null,
      "outputs": []
    },
    {
      "cell_type": "code",
      "source": [
        "duplicate_rows = df[df.duplicated()]\n",
        "\n",
        "duplicate_rows"
      ],
      "metadata": {
        "id": "LcU7FMfHThYl",
        "execution": {
          "iopub.status.busy": "2024-07-03T18:09:34.829704Z",
          "iopub.execute_input": "2024-07-03T18:09:34.83009Z",
          "iopub.status.idle": "2024-07-03T18:09:34.849037Z",
          "shell.execute_reply.started": "2024-07-03T18:09:34.830061Z",
          "shell.execute_reply": "2024-07-03T18:09:34.847929Z"
        },
        "trusted": true
      },
      "execution_count": null,
      "outputs": []
    },
    {
      "cell_type": "code",
      "source": [
        "df['mahalle'].value_counts()"
      ],
      "metadata": {
        "id": "oGp8hztYEDSE",
        "execution": {
          "iopub.status.busy": "2024-07-03T18:09:37.392894Z",
          "iopub.execute_input": "2024-07-03T18:09:37.393304Z",
          "iopub.status.idle": "2024-07-03T18:09:37.403513Z",
          "shell.execute_reply.started": "2024-07-03T18:09:37.393271Z",
          "shell.execute_reply": "2024-07-03T18:09:37.402225Z"
        },
        "trusted": true
      },
      "execution_count": null,
      "outputs": []
    },
    {
      "cell_type": "code",
      "source": [
        "vc=df['mahalle'].value_counts()\n",
        "other = vc[vc<=10]\n",
        "df['mahalle'] = df['mahalle'].apply(lambda x: 'other' if x in other else x)"
      ],
      "metadata": {
        "id": "DBXiWXEHyw_C",
        "execution": {
          "iopub.status.busy": "2024-07-03T18:09:40.485815Z",
          "iopub.execute_input": "2024-07-03T18:09:40.486189Z",
          "iopub.status.idle": "2024-07-03T18:09:40.497051Z",
          "shell.execute_reply.started": "2024-07-03T18:09:40.486159Z",
          "shell.execute_reply": "2024-07-03T18:09:40.495857Z"
        },
        "trusted": true
      },
      "execution_count": null,
      "outputs": []
    },
    {
      "cell_type": "code",
      "source": [
        "df['mahalle'].value_counts()"
      ],
      "metadata": {
        "id": "HQqhn7q4y_cD",
        "execution": {
          "iopub.status.busy": "2024-07-03T18:09:42.98635Z",
          "iopub.execute_input": "2024-07-03T18:09:42.987123Z",
          "iopub.status.idle": "2024-07-03T18:09:42.996667Z",
          "shell.execute_reply.started": "2024-07-03T18:09:42.987082Z",
          "shell.execute_reply": "2024-07-03T18:09:42.995521Z"
        },
        "trusted": true
      },
      "execution_count": null,
      "outputs": []
    },
    {
      "cell_type": "code",
      "source": [
        "from sklearn.preprocessing import LabelEncoder\n",
        "\n",
        "\n",
        "label_encoder = LabelEncoder()\n",
        "\n",
        "df['mahalle_encoded'] = label_encoder.fit_transform(df['mahalle'])"
      ],
      "metadata": {
        "id": "OfLLNzCzEDSE",
        "execution": {
          "iopub.status.busy": "2024-07-03T18:09:45.294183Z",
          "iopub.execute_input": "2024-07-03T18:09:45.294595Z",
          "iopub.status.idle": "2024-07-03T18:09:45.466865Z",
          "shell.execute_reply.started": "2024-07-03T18:09:45.294543Z",
          "shell.execute_reply": "2024-07-03T18:09:45.465638Z"
        },
        "trusted": true
      },
      "execution_count": null,
      "outputs": []
    },
    {
      "cell_type": "code",
      "source": [
        "df['mahalle_encoded'].value_counts()"
      ],
      "metadata": {
        "id": "ZQbFAyfyEDSE",
        "execution": {
          "iopub.status.busy": "2024-07-03T18:09:47.345462Z",
          "iopub.execute_input": "2024-07-03T18:09:47.345868Z",
          "iopub.status.idle": "2024-07-03T18:09:47.357414Z",
          "shell.execute_reply.started": "2024-07-03T18:09:47.345839Z",
          "shell.execute_reply": "2024-07-03T18:09:47.35593Z"
        },
        "trusted": true
      },
      "execution_count": null,
      "outputs": []
    },
    {
      "cell_type": "code",
      "source": [
        "df.describe()"
      ],
      "metadata": {
        "id": "_r7pJVbTEDSE",
        "execution": {
          "iopub.status.busy": "2024-07-03T18:09:49.757811Z",
          "iopub.execute_input": "2024-07-03T18:09:49.758801Z",
          "iopub.status.idle": "2024-07-03T18:09:49.819205Z",
          "shell.execute_reply.started": "2024-07-03T18:09:49.758755Z",
          "shell.execute_reply": "2024-07-03T18:09:49.817857Z"
        },
        "trusted": true
      },
      "execution_count": null,
      "outputs": []
    },
    {
      "cell_type": "code",
      "source": [
        "df['oda_sayisi'].unique()"
      ],
      "metadata": {
        "id": "dcmcwTXYEDSF",
        "execution": {
          "iopub.status.busy": "2024-07-03T18:09:52.896123Z",
          "iopub.execute_input": "2024-07-03T18:09:52.896533Z",
          "iopub.status.idle": "2024-07-03T18:09:52.904255Z",
          "shell.execute_reply.started": "2024-07-03T18:09:52.896504Z",
          "shell.execute_reply": "2024-07-03T18:09:52.903125Z"
        },
        "trusted": true
      },
      "execution_count": null,
      "outputs": []
    },
    {
      "cell_type": "code",
      "source": [
        "encoding_map = {\n",
        "    'Stüdyo (1+0)': 1,\n",
        "    '1+1': 2,\n",
        "    '2+0': 3,\n",
        "    '2+1': 4,\n",
        "    '2.5+1': 5,\n",
        "    '3+1': 6,\n",
        "    '3.5+1': 7,\n",
        "    '4+1': 8,\n",
        "    '4+2': 9,\n",
        "    '5+1': 10,\n",
        "    '5+2': 11,\n",
        "    '6+1': 12\n",
        "}\n",
        "\n",
        "df['oda_sayisi_encoded'] = df['oda_sayisi'].map(encoding_map)\n",
        "df['oda_sayisi_encoded'].value_counts(),df['oda_sayisi'].value_counts()"
      ],
      "metadata": {
        "id": "_x1UytzHEDSF",
        "execution": {
          "iopub.status.busy": "2024-07-03T18:09:57.02444Z",
          "iopub.execute_input": "2024-07-03T18:09:57.024888Z",
          "iopub.status.idle": "2024-07-03T18:09:57.03912Z",
          "shell.execute_reply.started": "2024-07-03T18:09:57.024853Z",
          "shell.execute_reply": "2024-07-03T18:09:57.037713Z"
        },
        "trusted": true
      },
      "execution_count": null,
      "outputs": []
    },
    {
      "cell_type": "code",
      "source": [
        "df['bina_yas'].unique()"
      ],
      "metadata": {
        "id": "1OWOiFuNEDSF",
        "execution": {
          "iopub.status.busy": "2024-07-03T18:10:01.870311Z",
          "iopub.execute_input": "2024-07-03T18:10:01.870783Z",
          "iopub.status.idle": "2024-07-03T18:10:01.87905Z",
          "shell.execute_reply.started": "2024-07-03T18:10:01.870738Z",
          "shell.execute_reply": "2024-07-03T18:10:01.877862Z"
        },
        "trusted": true
      },
      "execution_count": null,
      "outputs": []
    },
    {
      "cell_type": "code",
      "source": [
        "encoding_map = {\n",
        "    '0': 0,\n",
        "    '1': 1,\n",
        "    '2': 2,\n",
        "    '3': 3,\n",
        "    '4': 4,\n",
        "    '5-10 arası': 7.5,\n",
        "    '11-15 arası': 13,\n",
        "    '16-20 arası': 18,\n",
        "    '21-25 arası': 23,\n",
        "    '26-30 arası': 28,\n",
        "    '31 ve üzeri': 32\n",
        "}\n",
        "\n",
        "# Encode işlemi\n",
        "df['bina_yas_encoded'] = df['bina_yas'].map(encoding_map)\n",
        "\n",
        "# Sonucu gösterme\n",
        "df['bina_yas_encoded'].value_counts(),df['bina_yas'].value_counts()"
      ],
      "metadata": {
        "id": "3TpLA2rGEDSF",
        "execution": {
          "iopub.status.busy": "2024-07-03T18:10:04.504887Z",
          "iopub.execute_input": "2024-07-03T18:10:04.505349Z",
          "iopub.status.idle": "2024-07-03T18:10:04.522232Z",
          "shell.execute_reply.started": "2024-07-03T18:10:04.505316Z",
          "shell.execute_reply": "2024-07-03T18:10:04.520948Z"
        },
        "trusted": true
      },
      "execution_count": null,
      "outputs": []
    },
    {
      "cell_type": "code",
      "source": [
        "sorted(df['dairenin_bulundugu_kat'].unique())"
      ],
      "metadata": {
        "id": "HvuqSc0gEDSF",
        "execution": {
          "iopub.status.busy": "2024-07-03T18:10:08.228366Z",
          "iopub.execute_input": "2024-07-03T18:10:08.228819Z",
          "iopub.status.idle": "2024-07-03T18:10:08.23732Z",
          "shell.execute_reply.started": "2024-07-03T18:10:08.228784Z",
          "shell.execute_reply": "2024-07-03T18:10:08.23611Z"
        },
        "trusted": true
      },
      "execution_count": null,
      "outputs": []
    },
    {
      "cell_type": "code",
      "source": [
        "df['dairenin_bulundugu_kat'].value_counts()"
      ],
      "metadata": {
        "id": "8QYOlnsDEDSG",
        "execution": {
          "iopub.status.busy": "2024-07-03T18:10:10.954148Z",
          "iopub.execute_input": "2024-07-03T18:10:10.954585Z",
          "iopub.status.idle": "2024-07-03T18:10:10.964951Z",
          "shell.execute_reply.started": "2024-07-03T18:10:10.954533Z",
          "shell.execute_reply": "2024-07-03T18:10:10.963643Z"
        },
        "trusted": true
      },
      "execution_count": null,
      "outputs": []
    },
    {
      "cell_type": "code",
      "source": [
        "mapping = {\n",
        "    'Giriş Altı Kot 2': -2,\n",
        "    'Bodrum Kat': -1,\n",
        "    'Giriş Katı': 0,\n",
        "    'Zemin Kat': 0,\n",
        "    'Yüksek Giriş': 0.5,\n",
        "    'Bahçe Katı': 0,\n",
        "    'Villa Tipi': 0,\n",
        "    '1': 1,\n",
        "    '2': 2,\n",
        "    '3': 3,\n",
        "    '4': 4,\n",
        "    '5': 5,\n",
        "    '6': 6,\n",
        "    '7': 7,\n",
        "    '8': 8,\n",
        "    '9': 9,\n",
        "    '10': 10,\n",
        "    '11': 11,\n",
        "    '12': 12,\n",
        "    '13': 13,\n",
        "    '15': 15\n",
        "}\n",
        "\n",
        "\n",
        "# Haritalamayı uygulama\n",
        "df['dairenin_bulundugu_kat_encoded'] = df['dairenin_bulundugu_kat'].map(mapping)\n",
        "\n",
        "\n",
        "# 'Çatı Katı' olan değerler için haritalamayı güncelleme\n",
        "df.loc[df['dairenin_bulundugu_kat'] == 'Çatı Katı', 'dairenin_bulundugu_kat_encoded'] = df['bina_kat_sayisi']\n",
        "\n",
        "\n",
        "\n",
        "\n"
      ],
      "metadata": {
        "id": "m2_DR-fyEDSG",
        "execution": {
          "iopub.status.busy": "2024-07-03T18:10:13.13341Z",
          "iopub.execute_input": "2024-07-03T18:10:13.133824Z",
          "iopub.status.idle": "2024-07-03T18:10:13.148726Z",
          "shell.execute_reply.started": "2024-07-03T18:10:13.133793Z",
          "shell.execute_reply": "2024-07-03T18:10:13.14732Z"
        },
        "trusted": true
      },
      "execution_count": null,
      "outputs": []
    },
    {
      "cell_type": "code",
      "source": [
        "df['dairenin_bulundugu_kat_encoded'].value_counts(),df['dairenin_bulundugu_kat'].value_counts()"
      ],
      "metadata": {
        "id": "dFz6rrL5EDSG",
        "execution": {
          "iopub.status.busy": "2024-07-03T18:10:18.160259Z",
          "iopub.execute_input": "2024-07-03T18:10:18.16078Z",
          "iopub.status.idle": "2024-07-03T18:10:18.177203Z",
          "shell.execute_reply.started": "2024-07-03T18:10:18.160741Z",
          "shell.execute_reply": "2024-07-03T18:10:18.175962Z"
        },
        "trusted": true
      },
      "execution_count": null,
      "outputs": []
    },
    {
      "cell_type": "code",
      "source": [
        "df.info()"
      ],
      "metadata": {
        "id": "-INsdFETEDSG",
        "execution": {
          "iopub.status.busy": "2024-07-03T18:10:21.648391Z",
          "iopub.execute_input": "2024-07-03T18:10:21.649261Z",
          "iopub.status.idle": "2024-07-03T18:10:21.664542Z",
          "shell.execute_reply.started": "2024-07-03T18:10:21.649212Z",
          "shell.execute_reply": "2024-07-03T18:10:21.663152Z"
        },
        "trusted": true
      },
      "execution_count": null,
      "outputs": []
    },
    {
      "cell_type": "code",
      "source": [
        "df['isitma_turu'].value_counts()"
      ],
      "metadata": {
        "id": "gkTocDMeEDSG",
        "execution": {
          "iopub.status.busy": "2024-07-03T18:10:24.527707Z",
          "iopub.execute_input": "2024-07-03T18:10:24.528615Z",
          "iopub.status.idle": "2024-07-03T18:10:24.537581Z",
          "shell.execute_reply.started": "2024-07-03T18:10:24.528551Z",
          "shell.execute_reply": "2024-07-03T18:10:24.536319Z"
        },
        "trusted": true
      },
      "execution_count": null,
      "outputs": []
    },
    {
      "cell_type": "code",
      "source": [
        "mapping = {\n",
        "    'Yok': 0,\n",
        "    'Soba': 1,\n",
        "    'Doğalgaz Sobası': 2,\n",
        "    'Kat Kaloriferi': 3,\n",
        "    'Kombi (Elektrik)': 4,\n",
        "    'Güneş Enerjisi': 5,\n",
        "    'Merkezi': 6,\n",
        "    'Merkezi (Pay Ölçer)': 7,\n",
        "    'Klima': 8,\n",
        "    'Fancoil Ünitesi': 9,\n",
        "    'Şömine': 10,\n",
        "    'Kombi (Doğalgaz)': 11,\n",
        "    'Yerden Isıtma': 12\n",
        "}\n",
        "\n",
        "# 'isitma_turu_encoded' adında yeni bir sütun oluşturma\n",
        "df['isitma_turu_encoded'] = df['isitma_turu'].map(mapping)\n",
        "\n"
      ],
      "metadata": {
        "id": "FVkYHancEDSG",
        "execution": {
          "iopub.status.busy": "2024-07-03T18:10:27.136669Z",
          "iopub.execute_input": "2024-07-03T18:10:27.137543Z",
          "iopub.status.idle": "2024-07-03T18:10:27.145712Z",
          "shell.execute_reply.started": "2024-07-03T18:10:27.137496Z",
          "shell.execute_reply": "2024-07-03T18:10:27.144481Z"
        },
        "trusted": true
      },
      "execution_count": null,
      "outputs": []
    },
    {
      "cell_type": "code",
      "source": [
        "df['isitma_turu_encoded'].value_counts()"
      ],
      "metadata": {
        "id": "49_g7snBEDSG",
        "execution": {
          "iopub.status.busy": "2024-07-03T18:10:32.970486Z",
          "iopub.execute_input": "2024-07-03T18:10:32.970912Z",
          "iopub.status.idle": "2024-07-03T18:10:32.981165Z",
          "shell.execute_reply.started": "2024-07-03T18:10:32.970881Z",
          "shell.execute_reply": "2024-07-03T18:10:32.979874Z"
        },
        "trusted": true
      },
      "execution_count": null,
      "outputs": []
    },
    {
      "cell_type": "code",
      "source": [
        "df.info()"
      ],
      "metadata": {
        "id": "YvnHhlMPEDSG",
        "execution": {
          "iopub.status.busy": "2024-07-03T18:10:35.295183Z",
          "iopub.execute_input": "2024-07-03T18:10:35.295635Z",
          "iopub.status.idle": "2024-07-03T18:10:35.315023Z",
          "shell.execute_reply.started": "2024-07-03T18:10:35.295594Z",
          "shell.execute_reply": "2024-07-03T18:10:35.313446Z"
        },
        "trusted": true
      },
      "execution_count": null,
      "outputs": []
    },
    {
      "cell_type": "code",
      "source": [
        "df['otopark'].value_counts()"
      ],
      "metadata": {
        "id": "gxlK-StsEDSH",
        "execution": {
          "iopub.status.busy": "2024-07-03T18:10:38.458264Z",
          "iopub.execute_input": "2024-07-03T18:10:38.459225Z",
          "iopub.status.idle": "2024-07-03T18:10:38.467715Z",
          "shell.execute_reply.started": "2024-07-03T18:10:38.459189Z",
          "shell.execute_reply": "2024-07-03T18:10:38.466407Z"
        },
        "trusted": true
      },
      "execution_count": null,
      "outputs": []
    },
    {
      "cell_type": "code",
      "source": [
        "# Açık Otopark sütunu oluşturma\n",
        "df['acik_otopark'] = df['otopark'].apply(lambda x: 1 if ('Açık' in x or 'Açık & Kapalı' in x) else 0)\n",
        "\n",
        "# Kapalı Otopark sütunu oluşturma\n",
        "df['kapali_otopark'] = df['otopark'].apply(lambda x: 1 if ('Kapalı' in x or 'Açık & Kapalı' in x) else 0)\n"
      ],
      "metadata": {
        "id": "ORaPJX67EDSH",
        "execution": {
          "iopub.status.busy": "2024-07-03T18:10:42.437935Z",
          "iopub.execute_input": "2024-07-03T18:10:42.438371Z",
          "iopub.status.idle": "2024-07-03T18:10:42.448236Z",
          "shell.execute_reply.started": "2024-07-03T18:10:42.438337Z",
          "shell.execute_reply": "2024-07-03T18:10:42.446866Z"
        },
        "trusted": true
      },
      "execution_count": null,
      "outputs": []
    },
    {
      "cell_type": "code",
      "source": [
        "df.info()"
      ],
      "metadata": {
        "id": "LGn79AncEDSH",
        "execution": {
          "iopub.status.busy": "2024-07-03T18:10:44.494171Z",
          "iopub.execute_input": "2024-07-03T18:10:44.494625Z",
          "iopub.status.idle": "2024-07-03T18:10:44.509616Z",
          "shell.execute_reply.started": "2024-07-03T18:10:44.494578Z",
          "shell.execute_reply": "2024-07-03T18:10:44.508349Z"
        },
        "trusted": true
      },
      "execution_count": null,
      "outputs": []
    },
    {
      "cell_type": "code",
      "source": [
        "df.head(20)"
      ],
      "metadata": {
        "id": "mLBno7tHEDSH",
        "execution": {
          "iopub.status.busy": "2024-07-03T18:10:47.074924Z",
          "iopub.execute_input": "2024-07-03T18:10:47.075773Z",
          "iopub.status.idle": "2024-07-03T18:10:47.124782Z",
          "shell.execute_reply.started": "2024-07-03T18:10:47.075735Z",
          "shell.execute_reply": "2024-07-03T18:10:47.123642Z"
        },
        "trusted": true
      },
      "execution_count": null,
      "outputs": []
    },
    {
      "cell_type": "code",
      "source": [
        "plt.figure(figsize=(8, 6))\n",
        "\n",
        "sns.countplot(x='esya_durumu', data=df)\n",
        "plt.title('Eşya Durumu Dağılımı')\n",
        "plt.xlabel('Eşya Durumu')\n",
        "plt.ylabel('Sayı')\n",
        "plt.xticks(ticks=[0, 1], labels=['Eşyalı', 'Eşyasız'])  # x ekseni etiketleri için özelleştirme\n",
        "plt.tight_layout()\n",
        "plt.show()"
      ],
      "metadata": {
        "execution": {
          "iopub.status.busy": "2024-07-03T19:06:57.594175Z",
          "iopub.execute_input": "2024-07-03T19:06:57.594712Z",
          "iopub.status.idle": "2024-07-03T19:06:57.845705Z",
          "shell.execute_reply.started": "2024-07-03T19:06:57.594674Z",
          "shell.execute_reply": "2024-07-03T19:06:57.844457Z"
        },
        "trusted": true,
        "id": "fj9S5vPNpodJ"
      },
      "execution_count": null,
      "outputs": []
    },
    {
      "cell_type": "code",
      "source": [
        "plt.figure(figsize=(12, 6))\n",
        "\n",
        "# İlk alt grafik (1 satır, 2 sütun, 1. grafik)\n",
        "plt.subplot(1, 2, 1)\n",
        "plt.hist(df['fiyat'], bins=20, color='skyblue', edgecolor='black')\n",
        "plt.title('Fiyat Dağılımı')\n",
        "plt.xlabel('Fiyat')\n",
        "plt.ylabel('Frekans')\n",
        "\n",
        "# İkinci alt grafik (1 satır, 2 sütun, 2. grafik)\n",
        "plt.subplot(1, 2, 2)\n",
        "plt.hist(df['bina_kat_sayisi'], bins=10, color='lightgreen', edgecolor='black')\n",
        "plt.title('Bina Kat Sayısı Dağılımı')\n",
        "plt.xlabel('Bina Kat Sayısı')\n",
        "plt.ylabel('Frekans')\n",
        "\n",
        "plt.tight_layout()\n",
        "plt.show()"
      ],
      "metadata": {
        "execution": {
          "iopub.status.busy": "2024-07-03T19:07:16.956185Z",
          "iopub.execute_input": "2024-07-03T19:07:16.956718Z",
          "iopub.status.idle": "2024-07-03T19:07:17.567988Z",
          "shell.execute_reply.started": "2024-07-03T19:07:16.956678Z",
          "shell.execute_reply": "2024-07-03T19:07:17.56691Z"
        },
        "trusted": true,
        "id": "SF-Qcb0TpodJ"
      },
      "execution_count": null,
      "outputs": []
    },
    {
      "cell_type": "code",
      "source": [
        "# Mahalle bazında ortalama fiyatların gösterilmesi\n",
        "plt.figure(figsize=(14, 8))\n",
        "sns.barplot(x='mahalle', y='fiyat', data=df, estimator=np.mean)\n",
        "plt.xticks(rotation=90)\n",
        "plt.title('Mahallelere Göre Ortalama Kira Fiyatları')\n",
        "plt.xlabel('Mahalle')\n",
        "plt.ylabel('Ortalama Fiyat')\n",
        "plt.show()"
      ],
      "metadata": {
        "execution": {
          "iopub.status.busy": "2024-07-03T19:07:57.744365Z",
          "iopub.execute_input": "2024-07-03T19:07:57.744809Z",
          "iopub.status.idle": "2024-07-03T19:07:59.846674Z",
          "shell.execute_reply.started": "2024-07-03T19:07:57.744775Z",
          "shell.execute_reply": "2024-07-03T19:07:59.845397Z"
        },
        "trusted": true,
        "id": "cM_HdKs0podQ"
      },
      "execution_count": null,
      "outputs": []
    },
    {
      "cell_type": "code",
      "source": [
        "# Asansör var/yok ve fiyat\n",
        "plt.subplot(1, 2, 1)\n",
        "sns.barplot(x='asansor', y='fiyat', data=df, estimator=np.mean)\n",
        "plt.title('Asansör Var/Yok ve Fiyat')\n",
        "plt.xlabel('Asansör')\n",
        "plt.ylabel('Fiyat')"
      ],
      "metadata": {
        "execution": {
          "iopub.status.busy": "2024-07-03T19:08:22.958244Z",
          "iopub.execute_input": "2024-07-03T19:08:22.958713Z",
          "iopub.status.idle": "2024-07-03T19:08:23.237084Z",
          "shell.execute_reply.started": "2024-07-03T19:08:22.958678Z",
          "shell.execute_reply": "2024-07-03T19:08:23.235867Z"
        },
        "trusted": true,
        "id": "1PMwjgaTpodR"
      },
      "execution_count": null,
      "outputs": []
    },
    {
      "cell_type": "code",
      "source": [
        "# Otopark varlığına göre ortalama fiyat\n",
        "df.groupby('otopark')['fiyat'].mean().plot.bar()\n",
        "plt.title('Otopark Varlığına Göre Ortalama Fiyat')\n",
        "plt.xlabel('Otopark Varlığı')\n",
        "plt.ylabel('Ortalama Fiyat')\n",
        "plt.show()"
      ],
      "metadata": {
        "execution": {
          "iopub.status.busy": "2024-07-03T19:08:41.353121Z",
          "iopub.execute_input": "2024-07-03T19:08:41.353553Z",
          "iopub.status.idle": "2024-07-03T19:08:41.642414Z",
          "shell.execute_reply.started": "2024-07-03T19:08:41.353518Z",
          "shell.execute_reply": "2024-07-03T19:08:41.640536Z"
        },
        "trusted": true,
        "id": "ni9ds8WVpodR"
      },
      "execution_count": null,
      "outputs": []
    },
    {
      "cell_type": "code",
      "source": [
        "# Oda sayısı değerlerinin frekanslarını normalleştirilmiş olarak hesaplama\n",
        "oda_sayisi_counts = df['oda_sayisi'].value_counts(normalize=True)\n",
        "\n",
        "oda_sayisi_counts.plot(kind='bar')\n",
        "plt.title('Oda Sayısına Göre Konut Dağılımı')\n",
        "plt.xlabel('Oda Sayısı')\n",
        "plt.ylabel('Normalleştirilmiş Frekans')"
      ],
      "metadata": {
        "execution": {
          "iopub.status.busy": "2024-07-03T19:09:00.819555Z",
          "iopub.execute_input": "2024-07-03T19:09:00.820064Z",
          "iopub.status.idle": "2024-07-03T19:09:01.175739Z",
          "shell.execute_reply.started": "2024-07-03T19:09:00.820025Z",
          "shell.execute_reply": "2024-07-03T19:09:01.174515Z"
        },
        "trusted": true,
        "id": "TZfF8s-_podR"
      },
      "execution_count": null,
      "outputs": []
    },
    {
      "cell_type": "code",
      "source": [
        "# Dairenin bulunduğu katın normalize edilmiş frekanslarını hesapla\n",
        "kat_frekans = df['dairenin_bulundugu_kat'].value_counts(normalize=True)\n",
        "\n",
        "plt.figure(figsize=(10, 6))\n",
        "kat_frekans.plot(kind='bar')\n",
        "plt.title('Konutların Bulunduğu Katların Dağılımı')\n",
        "plt.xlabel('Kat')\n",
        "plt.ylabel('Normalize Edilmiş Frekans')\n",
        "\n",
        "plt.xticks(rotation=45)\n",
        "\n",
        "plt.tight_layout()\n",
        "plt.show()"
      ],
      "metadata": {
        "execution": {
          "iopub.status.busy": "2024-07-03T19:09:24.330664Z",
          "iopub.execute_input": "2024-07-03T19:09:24.331434Z",
          "iopub.status.idle": "2024-07-03T19:09:24.873999Z",
          "shell.execute_reply.started": "2024-07-03T19:09:24.331395Z",
          "shell.execute_reply": "2024-07-03T19:09:24.872523Z"
        },
        "trusted": true,
        "id": "-NaE3MWUpodS"
      },
      "execution_count": null,
      "outputs": []
    },
    {
      "cell_type": "code",
      "source": [
        "fig, ax = plt.subplots(1,2)\n",
        "fig.set_size_inches([15,4])\n",
        "sns.scatterplot(data=df, x=\"brut_alan_m2\", y=\"fiyat\", hue=\"oda_sayisi\", size=\"oda_sayisi\", ax=ax[0], palette=\"rocket_r\")\n",
        "sns.regplot(data=df, x=\"brut_alan_m2\", y=\"fiyat\", scatter=False, ax=ax[0], color='blue')\n",
        "ax[0].spines['top'].set_visible(False)\n",
        "ax[0].spines['right'].set_visible(False)\n",
        "\n",
        "sns.scatterplot(data=df, x=\"net_alan_m2\", y=\"fiyat\", hue=\"oda_sayisi\", size=\"oda_sayisi\", ax=ax[1], palette=\"rocket_r\")\n",
        "sns.regplot(data=df, x=\"net_alan_m2\", y=\"fiyat\", scatter=False, ax=ax[1], color='blue')\n",
        "ax[1].spines['top'].set_visible(False)\n",
        "ax[1].spines['right'].set_visible(False)\n",
        "\n",
        "plt.show()"
      ],
      "metadata": {
        "execution": {
          "iopub.status.busy": "2024-07-03T19:09:39.557545Z",
          "iopub.execute_input": "2024-07-03T19:09:39.557974Z",
          "iopub.status.idle": "2024-07-03T19:09:41.110501Z",
          "shell.execute_reply.started": "2024-07-03T19:09:39.557943Z",
          "shell.execute_reply": "2024-07-03T19:09:41.109138Z"
        },
        "trusted": true,
        "id": "9EIIQXGfpodS"
      },
      "execution_count": null,
      "outputs": []
    },
    {
      "cell_type": "code",
      "source": [
        "fig, ax = plt.subplots(1,2)\n",
        "fig.set_size_inches([15,5])\n",
        "\n",
        "sns.barplot(data=df, x=\"banyo_sayisi\", y=\"fiyat\", ax=ax[0], palette=\"pastel\")\n",
        "ax[0].spines['top'].set_visible(False)\n",
        "ax[0].spines['right'].set_visible(False)\n",
        "\n",
        "sns.barplot(data=df, x=\"oda_sayisi\", y=\"fiyat\", ax=ax[1], palette=\"pastel\")\n",
        "ax[1].spines['top'].set_visible(False)\n",
        "ax[1].spines['right'].set_visible(False)\n",
        "\n",
        "plt.show()"
      ],
      "metadata": {
        "execution": {
          "iopub.status.busy": "2024-07-03T19:09:59.570693Z",
          "iopub.execute_input": "2024-07-03T19:09:59.571164Z",
          "iopub.status.idle": "2024-07-03T19:10:00.480712Z",
          "shell.execute_reply.started": "2024-07-03T19:09:59.571125Z",
          "shell.execute_reply": "2024-07-03T19:10:00.479483Z"
        },
        "trusted": true,
        "id": "Lm-FkvSRpodS"
      },
      "execution_count": null,
      "outputs": []
    },
    {
      "cell_type": "code",
      "source": [
        "fig, ax = plt.subplots(1,2)\n",
        "fig.set_size_inches([15,5])\n",
        "\n",
        "sns.barplot(data=df, x=\"esya_durumu\", y=\"fiyat\", ax=ax[0], palette=\"rocket_r\")\n",
        "ax[0].spines['top'].set_visible(False)\n",
        "ax[0].spines['right'].set_visible(False)\n",
        "\n",
        "sns.barplot(data=df, x=\"site_icinde\", y=\"fiyat\", ax=ax[1], palette=\"rocket_r\")\n",
        "ax[1].spines['top'].set_visible(False)\n",
        "ax[1].spines['right'].set_visible(False)\n",
        "\n",
        "plt.show()"
      ],
      "metadata": {
        "execution": {
          "iopub.status.busy": "2024-07-03T19:10:13.391465Z",
          "iopub.execute_input": "2024-07-03T19:10:13.391935Z",
          "iopub.status.idle": "2024-07-03T19:10:13.88221Z",
          "shell.execute_reply.started": "2024-07-03T19:10:13.3919Z",
          "shell.execute_reply": "2024-07-03T19:10:13.880941Z"
        },
        "trusted": true,
        "id": "0y7HPj4SpodS"
      },
      "execution_count": null,
      "outputs": []
    },
    {
      "cell_type": "code",
      "source": [
        "# Otopark türünün normalize edilmiş frekanslarını hesapla\n",
        "otopark_turu_frekans = df['otopark'].value_counts(normalize=True)\n",
        "\n",
        "plt.figure(figsize=(8, 8))\n",
        "otopark_turu_frekans.plot(kind='pie', autopct='%1.1f%%')\n",
        "\n",
        "plt.title('Konut Dairelerinin Otopark Türü Dağılımı')\n",
        "plt.axis('equal')\n",
        "plt.legend(otopark_turu_frekans.index, loc='upper left')\n",
        "plt.show()"
      ],
      "metadata": {
        "execution": {
          "iopub.status.busy": "2024-07-03T19:10:29.065076Z",
          "iopub.execute_input": "2024-07-03T19:10:29.065485Z",
          "iopub.status.idle": "2024-07-03T19:10:29.344009Z",
          "shell.execute_reply.started": "2024-07-03T19:10:29.065453Z",
          "shell.execute_reply": "2024-07-03T19:10:29.342809Z"
        },
        "trusted": true,
        "id": "cmzYT1tlpodT"
      },
      "execution_count": null,
      "outputs": []
    },
    {
      "cell_type": "code",
      "source": [
        "# df_main oluşturma (ilk 18 sütun)\n",
        "df_main = df.iloc[:, :18]\n",
        "df_main.info()"
      ],
      "metadata": {
        "id": "Ntn_PL1yEDSH",
        "execution": {
          "iopub.status.busy": "2024-07-03T18:10:50.598123Z",
          "iopub.execute_input": "2024-07-03T18:10:50.599143Z",
          "iopub.status.idle": "2024-07-03T18:10:50.613423Z",
          "shell.execute_reply.started": "2024-07-03T18:10:50.599103Z",
          "shell.execute_reply": "2024-07-03T18:10:50.612159Z"
        },
        "trusted": true
      },
      "execution_count": null,
      "outputs": []
    },
    {
      "cell_type": "code",
      "source": [
        "df_encoded = df.copy()\n",
        "columns_to_drop = ['mahalle', 'oda_sayisi', 'bina_yas', 'dairenin_bulundugu_kat', 'isitma_turu', 'otopark']\n",
        "df_encoded.drop(columns=columns_to_drop, inplace=True)\n",
        "\n",
        "# Sonucu gösterme\n",
        "df_encoded.info()"
      ],
      "metadata": {
        "id": "hLXmaKk6EDSH",
        "execution": {
          "iopub.status.busy": "2024-07-03T18:10:53.165414Z",
          "iopub.execute_input": "2024-07-03T18:10:53.165842Z",
          "iopub.status.idle": "2024-07-03T18:10:53.181902Z",
          "shell.execute_reply.started": "2024-07-03T18:10:53.165809Z",
          "shell.execute_reply": "2024-07-03T18:10:53.180389Z"
        },
        "trusted": true
      },
      "execution_count": null,
      "outputs": []
    },
    {
      "cell_type": "code",
      "source": [
        "\n",
        "\n",
        "def detect_outliers(data):\n",
        "    Q1 = np.percentile(data, 25)\n",
        "    Q3 = np.percentile(data, 75)\n",
        "    IQR = Q3 - Q1\n",
        "    lower_bound = Q1 - 1.5 * IQR\n",
        "    upper_bound = Q3 + 1.5 * IQR\n",
        "    return lower_bound, upper_bound\n",
        "\n",
        "numeric_columns = df_encoded.select_dtypes(include=[np.number]).columns\n",
        "\n",
        "num_columns = len(numeric_columns)\n",
        "fig, axes = plt.subplots(nrows=num_columns, ncols=1, figsize=(10, 5 * num_columns))\n",
        "\n",
        "for i, column in enumerate(numeric_columns):\n",
        "    sns.boxplot(ax=axes[i], data=df_encoded[column], orient='h')\n",
        "    lower_bound, upper_bound = detect_outliers(df_encoded[column])\n",
        "    outliers = df_encoded[(df_encoded[column] < lower_bound) | (df_encoded[column] > upper_bound)]\n",
        "    num_outliers = len(outliers)\n",
        "    axes[i].set_title(f'Sütun: {column}, Aykırı değer sayısı: {num_outliers}')\n",
        "\n",
        "plt.tight_layout()\n",
        "plt.show()\n"
      ],
      "metadata": {
        "id": "z9Y01qshV2xS",
        "execution": {
          "iopub.status.busy": "2024-07-03T18:10:57.139824Z",
          "iopub.execute_input": "2024-07-03T18:10:57.140232Z",
          "iopub.status.idle": "2024-07-03T18:11:00.819027Z",
          "shell.execute_reply.started": "2024-07-03T18:10:57.140203Z",
          "shell.execute_reply": "2024-07-03T18:11:00.817406Z"
        },
        "trusted": true
      },
      "execution_count": null,
      "outputs": []
    },
    {
      "cell_type": "code",
      "source": [
        "df_encoded_out=df_encoded[['fiyat','brut_alan_m2','net_alan_m2','bina_kat_sayisi','aidat','depozito','dairenin_bulundugu_kat_encoded','banyo_sayisi']]\n",
        "outliers=df_encoded_out.quantile(q=.99)\n",
        "outliers"
      ],
      "metadata": {
        "id": "cR9gumxZZVZh",
        "execution": {
          "iopub.status.busy": "2024-07-03T18:11:12.167008Z",
          "iopub.execute_input": "2024-07-03T18:11:12.167446Z",
          "iopub.status.idle": "2024-07-03T18:11:12.180537Z",
          "shell.execute_reply.started": "2024-07-03T18:11:12.167413Z",
          "shell.execute_reply": "2024-07-03T18:11:12.179186Z"
        },
        "trusted": true
      },
      "execution_count": null,
      "outputs": []
    },
    {
      "cell_type": "code",
      "source": [
        "# Outliers sınırlarını belirlemek istediğiniz sütunları seçme\n",
        "columns_to_check = ['fiyat', 'brut_alan_m2', 'net_alan_m2', 'bina_kat_sayisi', 'aidat', 'depozito', 'dairenin_bulundugu_kat_encoded']\n",
        "\n",
        "# Sınırları belirleme (0.99 quantile)\n",
        "outliers = df_encoded[columns_to_check].quantile(q=.99)\n",
        "\n",
        "# Filtreyi oluşturma\n",
        "filter_condition = (df_encoded['fiyat'] < outliers['fiyat']) & \\\n",
        "                   (df_encoded['brut_alan_m2'] < outliers['brut_alan_m2']) & \\\n",
        "                   (df_encoded['net_alan_m2'] < outliers['net_alan_m2']) & \\\n",
        "                   (df_encoded['bina_kat_sayisi'] < outliers['bina_kat_sayisi']) & \\\n",
        "                   (df_encoded['aidat'] < outliers['aidat']) & \\\n",
        "                   (df_encoded['depozito'] < outliers['depozito']) & \\\n",
        "                   (df_encoded['dairenin_bulundugu_kat_encoded'] < outliers['dairenin_bulundugu_kat_encoded'])\n",
        "\n",
        "\n",
        "# Filtreyi uygulama\n",
        "df_encoded = df_encoded[filter_condition]\n",
        "\n",
        "# Sonucu kontrol etme\n",
        "df_encoded.info()\n"
      ],
      "metadata": {
        "id": "afQOzduqbZF_",
        "execution": {
          "iopub.status.busy": "2024-07-03T18:11:37.411951Z",
          "iopub.execute_input": "2024-07-03T18:11:37.412415Z",
          "iopub.status.idle": "2024-07-03T18:11:37.433919Z",
          "shell.execute_reply.started": "2024-07-03T18:11:37.412379Z",
          "shell.execute_reply": "2024-07-03T18:11:37.432625Z"
        },
        "trusted": true
      },
      "execution_count": null,
      "outputs": []
    },
    {
      "cell_type": "code",
      "source": [
        "df_encoded['alan_m2'] = (df_encoded['net_alan_m2'] + df_encoded['brut_alan_m2']) / 2"
      ],
      "metadata": {
        "id": "O16G_KKMcSpJ",
        "execution": {
          "iopub.status.busy": "2024-07-03T18:11:54.194617Z",
          "iopub.execute_input": "2024-07-03T18:11:54.195056Z",
          "iopub.status.idle": "2024-07-03T18:11:54.201862Z",
          "shell.execute_reply.started": "2024-07-03T18:11:54.19502Z",
          "shell.execute_reply": "2024-07-03T18:11:54.200534Z"
        },
        "trusted": true
      },
      "execution_count": null,
      "outputs": []
    },
    {
      "cell_type": "code",
      "source": [
        "df_encoded= df_encoded.drop(['net_alan_m2', 'brut_alan_m2'], axis=1)\n",
        "\n",
        "df_encoded.head(5)"
      ],
      "metadata": {
        "id": "WQ-1vCGIcTTt",
        "execution": {
          "iopub.status.busy": "2024-07-03T18:12:00.675533Z",
          "iopub.execute_input": "2024-07-03T18:12:00.676804Z",
          "iopub.status.idle": "2024-07-03T18:12:00.70181Z",
          "shell.execute_reply.started": "2024-07-03T18:12:00.676749Z",
          "shell.execute_reply": "2024-07-03T18:12:00.700538Z"
        },
        "trusted": true
      },
      "execution_count": null,
      "outputs": []
    },
    {
      "cell_type": "code",
      "source": [
        "df_encoded['oda_alan_oran'] =  df_encoded['alan_m2'] / df_encoded['oda_sayisi_encoded']"
      ],
      "metadata": {
        "id": "jOZfKBvlcTai",
        "execution": {
          "iopub.status.busy": "2024-07-03T18:12:04.560376Z",
          "iopub.execute_input": "2024-07-03T18:12:04.56077Z",
          "iopub.status.idle": "2024-07-03T18:12:04.567756Z",
          "shell.execute_reply.started": "2024-07-03T18:12:04.56074Z",
          "shell.execute_reply": "2024-07-03T18:12:04.5665Z"
        },
        "trusted": true
      },
      "execution_count": null,
      "outputs": []
    },
    {
      "cell_type": "code",
      "source": [
        "df_encoded.info()"
      ],
      "metadata": {
        "id": "TksKmelC1VQ9",
        "execution": {
          "iopub.status.busy": "2024-07-03T18:12:06.824381Z",
          "iopub.execute_input": "2024-07-03T18:12:06.825472Z",
          "iopub.status.idle": "2024-07-03T18:12:06.838572Z",
          "shell.execute_reply.started": "2024-07-03T18:12:06.825431Z",
          "shell.execute_reply": "2024-07-03T18:12:06.837324Z"
        },
        "trusted": true
      },
      "execution_count": null,
      "outputs": []
    },
    {
      "cell_type": "markdown",
      "source": [
        "# **AUTOEDA**"
      ],
      "metadata": {
        "id": "NgHahH91EDSH"
      }
    },
    {
      "cell_type": "code",
      "source": [
        "!pip install ydata-profiling"
      ],
      "metadata": {
        "id": "63LfD7gtEDSI",
        "execution": {
          "iopub.status.busy": "2024-07-03T18:12:42.209395Z",
          "iopub.execute_input": "2024-07-03T18:12:42.210175Z",
          "iopub.status.idle": "2024-07-03T18:12:57.383389Z",
          "shell.execute_reply.started": "2024-07-03T18:12:42.210133Z",
          "shell.execute_reply": "2024-07-03T18:12:57.382119Z"
        },
        "trusted": true
      },
      "execution_count": null,
      "outputs": []
    },
    {
      "cell_type": "code",
      "source": [
        "from ydata_profiling import ProfileReport\n",
        "\n",
        "profile = ProfileReport(df_encoded, title=\"Pandas Profiling Report\")\n",
        "profile"
      ],
      "metadata": {
        "id": "TSe0Y3NbEDSI",
        "execution": {
          "iopub.status.busy": "2024-07-03T18:13:05.683625Z",
          "iopub.execute_input": "2024-07-03T18:13:05.684073Z",
          "iopub.status.idle": "2024-07-03T18:14:16.198863Z",
          "shell.execute_reply.started": "2024-07-03T18:13:05.684033Z",
          "shell.execute_reply": "2024-07-03T18:14:16.197484Z"
        },
        "trusted": true
      },
      "execution_count": null,
      "outputs": []
    },
    {
      "cell_type": "code",
      "source": [
        "# Korelasyon matrisini hesaplayıp bir ısı haritası (heatmap) ile görselleştirme\n",
        "\n",
        "corr_matrix = df_encoded.corr()\n",
        "plt.figure(figsize=(12, 8))\n",
        "sns.heatmap(corr_matrix, annot=True, cmap='coolwarm')\n",
        "plt.title('Korelasyon Matrisi')\n",
        "plt.show()"
      ],
      "metadata": {
        "id": "KWwWBKTBEDSI",
        "execution": {
          "iopub.status.busy": "2024-07-03T18:27:38.631211Z",
          "iopub.execute_input": "2024-07-03T18:27:38.631675Z",
          "iopub.status.idle": "2024-07-03T18:27:40.074538Z",
          "shell.execute_reply.started": "2024-07-03T18:27:38.631637Z",
          "shell.execute_reply": "2024-07-03T18:27:40.073385Z"
        },
        "trusted": true
      },
      "execution_count": null,
      "outputs": []
    },
    {
      "cell_type": "code",
      "source": [
        "from sklearn.preprocessing import StandardScaler\n",
        "\n",
        "\n",
        "X = df_encoded.drop(columns=['fiyat'])  # 'fiyat' sütununu X'ten çıkarıyoruz\n",
        "y = df_encoded['fiyat']  # 'fiyat' sütunu y olarak belirliyoruz\n",
        "\n",
        "\n",
        "scaler = StandardScaler()\n",
        "X_scaled = scaler.fit_transform(X)\n"
      ],
      "metadata": {
        "id": "AL65kh6vf5LJ",
        "execution": {
          "iopub.status.busy": "2024-07-03T18:29:08.373504Z",
          "iopub.execute_input": "2024-07-03T18:29:08.374823Z",
          "iopub.status.idle": "2024-07-03T18:29:08.38807Z",
          "shell.execute_reply.started": "2024-07-03T18:29:08.37478Z",
          "shell.execute_reply": "2024-07-03T18:29:08.386818Z"
        },
        "trusted": true
      },
      "execution_count": null,
      "outputs": []
    },
    {
      "cell_type": "code",
      "source": [
        "from sklearn.model_selection import train_test_split\n",
        "X_train,X_test,y_train,y_test = train_test_split (X_scaled,y,test_size=.2,random_state=42)"
      ],
      "metadata": {
        "id": "F31nC5ADgJqZ",
        "execution": {
          "iopub.status.busy": "2024-07-03T18:29:16.494682Z",
          "iopub.execute_input": "2024-07-03T18:29:16.495688Z",
          "iopub.status.idle": "2024-07-03T18:29:16.617177Z",
          "shell.execute_reply.started": "2024-07-03T18:29:16.495651Z",
          "shell.execute_reply": "2024-07-03T18:29:16.61606Z"
        },
        "trusted": true
      },
      "execution_count": null,
      "outputs": []
    },
    {
      "cell_type": "code",
      "source": [
        "!pip install catboost"
      ],
      "metadata": {
        "id": "ilB3b14GEDSI",
        "execution": {
          "iopub.status.busy": "2024-07-03T18:29:27.168444Z",
          "iopub.execute_input": "2024-07-03T18:29:27.168946Z",
          "iopub.status.idle": "2024-07-03T18:29:42.208603Z",
          "shell.execute_reply.started": "2024-07-03T18:29:27.1689Z",
          "shell.execute_reply": "2024-07-03T18:29:42.207132Z"
        },
        "trusted": true
      },
      "execution_count": null,
      "outputs": []
    },
    {
      "cell_type": "code",
      "source": [
        "import sklearn\n",
        "print(sklearn.__version__)"
      ],
      "metadata": {
        "id": "otKk_G4-EDSI",
        "execution": {
          "iopub.status.busy": "2024-07-03T18:30:13.589277Z",
          "iopub.execute_input": "2024-07-03T18:30:13.589753Z",
          "iopub.status.idle": "2024-07-03T18:30:13.596961Z",
          "shell.execute_reply.started": "2024-07-03T18:30:13.589713Z",
          "shell.execute_reply": "2024-07-03T18:30:13.595624Z"
        },
        "trusted": true
      },
      "execution_count": null,
      "outputs": []
    },
    {
      "cell_type": "code",
      "source": [
        "from sklearn.model_selection import train_test_split, GridSearchCV\n",
        "from sklearn.metrics import r2_score, mean_squared_error, mean_absolute_error\n",
        "from sklearn.linear_model import LinearRegression, Ridge, Lasso, ElasticNet\n",
        "from sklearn.svm import SVR\n",
        "from sklearn.ensemble import RandomForestRegressor, GradientBoostingRegressor, ExtraTreesRegressor\n",
        "from sklearn.tree import DecisionTreeRegressor\n",
        "from xgboost import XGBRegressor\n",
        "from lightgbm import LGBMRegressor\n",
        "from catboost import CatBoostRegressor\n",
        "import pandas as pd\n",
        "\n",
        "\n",
        "# Regresyon modelleri ve hiperparametreleri\n",
        "models = {\n",
        "    'LinearRegression': LinearRegression(),\n",
        "    'Ridge': Ridge(),\n",
        "    'Lasso': Lasso(),\n",
        "    'ElasticNet': ElasticNet(),\n",
        "    'RandomForestRegressor': RandomForestRegressor(),\n",
        "    'GradientBoostingRegressor': GradientBoostingRegressor(),\n",
        "    'DecisionTreeRegressor': DecisionTreeRegressor(),\n",
        "    'XGBRegressor': XGBRegressor(),\n",
        "    'LGBMRegressor': LGBMRegressor(verbose=-1),\n",
        "    'CatBoostRegressor': CatBoostRegressor(verbose=0)\n",
        "}\n",
        "\n",
        "params = {\n",
        "    'LinearRegression': {},\n",
        "    'Ridge': {'alpha': [0.1, 1.0, 10.0]},\n",
        "    'Lasso': {'alpha': [0.1, 1.0, 10.0]},\n",
        "    'ElasticNet': {'alpha': [0.1, 1.0, 10.0], 'l1_ratio': [0.25, 0.5, 0.75]},\n",
        "    'RandomForestRegressor': {'n_estimators': [100, 200, 300], 'max_depth': [5, 10, 15]},\n",
        "    'GradientBoostingRegressor': {'n_estimators': [50, 100, 200], 'learning_rate': [0.01, 0.1, 0.2]},\n",
        "    'DecisionTreeRegressor': {'max_depth': [5, 10, 15]},\n",
        "    'XGBRegressor': {'n_estimators': [50, 100, 200], 'learning_rate': [0.01, 0.1, 0.2]},\n",
        "    'LGBMRegressor': {'n_estimators': [50, 100, 200], 'learning_rate': [0.01, 0.1, 0.2]},\n",
        "    'CatBoostRegressor': {'iterations': [50, 100, 200], 'learning_rate': [0.01, 0.1, 0.2]}\n",
        "}\n",
        "\n",
        "# Modellerin eğitilmesi ve performans metriklerinin hesaplanması\n",
        "results = []\n",
        "for model_name, model in models.items():\n",
        "    print(f\"Training {model_name}...\")\n",
        "    gs = GridSearchCV(model, params[model_name], scoring='r2', cv=5, verbose=1, n_jobs=-1)\n",
        "    gs.fit(X_train, y_train)\n",
        "\n",
        "    # En iyi modeli seçme\n",
        "    best_model = gs.best_estimator_\n",
        "\n",
        "    # Eğitim seti üzerinde tahmin yapma\n",
        "    y_train_pred = best_model.predict(X_train)\n",
        "    y_test_pred = best_model.predict(X_test)\n",
        "\n",
        "    # Metriklerin hesaplanması\n",
        "    train_r2 = r2_score(y_train, y_train_pred)\n",
        "    test_r2 = r2_score(y_test, y_test_pred)\n",
        "    train_mse = mean_squared_error(y_train, y_train_pred)\n",
        "    test_mse = mean_squared_error(y_test, y_test_pred)\n",
        "    train_mae = mean_absolute_error(y_train, y_train_pred)\n",
        "    test_mae = mean_absolute_error(y_test, y_test_pred)\n",
        "\n",
        "    results.append([model_name, train_r2, test_r2, train_mse, test_mse, train_mae, test_mae, gs.best_params_])\n",
        "\n",
        "\n",
        "\n",
        "# Sonuçları DataFrame'e dönüştürme\n",
        "results_df = pd.DataFrame(results, columns=['Model', 'Train_R2', 'Test_R2', 'Train_MSE', 'Test_MSE', 'Train_MAE', 'Test_MAE', 'Best_Params'])\n",
        "print(results_df)\n",
        "\n"
      ],
      "metadata": {
        "id": "L_7QV1kPEDSM",
        "execution": {
          "iopub.status.busy": "2024-07-03T18:30:24.820022Z",
          "iopub.execute_input": "2024-07-03T18:30:24.820435Z",
          "iopub.status.idle": "2024-07-03T18:30:56.501872Z",
          "shell.execute_reply.started": "2024-07-03T18:30:24.820403Z",
          "shell.execute_reply": "2024-07-03T18:30:56.5004Z"
        },
        "trusted": true
      },
      "execution_count": null,
      "outputs": []
    },
    {
      "cell_type": "code",
      "source": [
        "from sklearn.model_selection import train_test_split, GridSearchCV\n",
        "from sklearn.metrics import r2_score, mean_squared_error, mean_absolute_error\n",
        "from sklearn.linear_model import LinearRegression, Ridge, Lasso, ElasticNet\n",
        "from sklearn.svm import SVR\n",
        "from sklearn.ensemble import RandomForestRegressor, GradientBoostingRegressor, ExtraTreesRegressor\n",
        "from sklearn.tree import DecisionTreeRegressor\n",
        "from xgboost import XGBRegressor\n",
        "from lightgbm import LGBMRegressor\n",
        "from catboost import CatBoostRegressor\n",
        "import pandas as pd\n",
        "import numpy as np\n",
        "\n",
        "# Regresyon modelleri ve hiperparametreleri\n",
        "models = {\n",
        "    'LinearRegression': LinearRegression(),\n",
        "    'Ridge': Ridge(),\n",
        "    'Lasso': Lasso(),\n",
        "    'ElasticNet': ElasticNet(),\n",
        "    'RandomForestRegressor': RandomForestRegressor(),\n",
        "    'GradientBoostingRegressor': GradientBoostingRegressor(),\n",
        "    'DecisionTreeRegressor': DecisionTreeRegressor(),\n",
        "    'XGBRegressor': XGBRegressor(),\n",
        "    'LGBMRegressor': LGBMRegressor(verbose=-1),\n",
        "    'CatBoostRegressor': CatBoostRegressor(verbose=0)\n",
        "}\n",
        "\n",
        "params = {\n",
        "    'LinearRegression': {},\n",
        "    'Ridge': {'alpha': [0.1, 1.0, 10.0]},\n",
        "    'Lasso': {'alpha': [0.1, 1.0, 10.0]},\n",
        "    'ElasticNet': {'alpha': [0.1, 1.0, 10.0], 'l1_ratio': [0.25, 0.5, 0.75]},\n",
        "    'RandomForestRegressor': {'n_estimators': [100, 200, 300], 'max_depth': [5, 10, 15]},\n",
        "    'GradientBoostingRegressor': {'n_estimators': [50, 100, 200], 'learning_rate': [0.01, 0.1, 0.2]},\n",
        "    'DecisionTreeRegressor': {'max_depth': [5, 10, 15]},\n",
        "    'XGBRegressor': {'n_estimators': [50, 100, 200], 'learning_rate': [0.01, 0.1, 0.2]},\n",
        "    'LGBMRegressor': {'n_estimators': [50, 100, 200], 'learning_rate': [0.01, 0.1, 0.2]},\n",
        "    'CatBoostRegressor': {'iterations': [50, 100, 200], 'learning_rate': [0.01, 0.1, 0.2]}\n",
        "}\n",
        "\n",
        "\n",
        "# Modellerin eğitilmesi ve performans metriklerinin hesaplanması\n",
        "results = []\n",
        "feature_importances = {}\n",
        "for model_name, model in models.items():\n",
        "    print(f\"Training {model_name}...\")\n",
        "    gs = GridSearchCV(model, params[model_name], scoring='r2', cv=5, verbose=1, n_jobs=-1)\n",
        "    gs.fit(X_train, y_train)\n",
        "\n",
        "    # En iyi modeli seçme\n",
        "    best_model = gs.best_estimator_\n",
        "\n",
        "    # Eğitim seti üzerinde tahmin yapma\n",
        "    y_train_pred = best_model.predict(X_train)\n",
        "    y_test_pred = best_model.predict(X_test)\n",
        "\n",
        "    # Metriklerin hesaplanması\n",
        "    train_r2 = r2_score(y_train, y_train_pred)\n",
        "    test_r2 = r2_score(y_test, y_test_pred)\n",
        "    train_mse = mean_squared_error(y_train, y_train_pred)\n",
        "    test_mse = mean_squared_error(y_test, y_test_pred)\n",
        "    train_mae = mean_absolute_error(y_train, y_train_pred)\n",
        "    test_mae = mean_absolute_error(y_test, y_test_pred)\n",
        "\n",
        "    results.append([model_name, train_r2, test_r2, train_mse, test_mse, train_mae, test_mae, gs.best_params_])\n",
        "\n",
        "    # Feature importances'ı kaydetme\n",
        "    if hasattr(best_model, 'feature_importances_'):\n",
        "        feature_importances[model_name] = best_model.feature_importances_\n",
        "\n",
        "# Sonuçları DataFrame'e dönüştürme\n",
        "results_df = pd.DataFrame(results, columns=['Model', 'Train_R2', 'Test_R2', 'Train_MSE', 'Test_MSE', 'Train_MAE', 'Test_MAE', 'Best_Params'])\n",
        "print(results_df)\n",
        "\n",
        "# Feature importances'ı gösterme\n",
        "for model_name, importances in feature_importances.items():\n",
        "    print(f\"Feature importances for {model_name}:\")\n",
        "    feature_importance_df = pd.DataFrame({'Feature': X.columns, 'Importance': importances})\n",
        "    feature_importance_df = feature_importance_df.sort_values(by='Importance', ascending=False)\n",
        "    print(feature_importance_df)\n",
        "\n",
        "    # Önem seviyesi düşük olan özellikleri gösterme\n",
        "    low_importance_features = feature_importance_df[feature_importance_df['Importance'] < 0.01]\n",
        "    if not low_importance_features.empty:\n",
        "        print(f\"Features with low importance for {model_name}:\")\n",
        "        print(low_importance_features)\n"
      ],
      "metadata": {
        "id": "U7H5e_53wqUP",
        "execution": {
          "iopub.status.busy": "2024-07-03T18:31:35.101421Z",
          "iopub.execute_input": "2024-07-03T18:31:35.101904Z",
          "iopub.status.idle": "2024-07-03T18:32:26.627156Z",
          "shell.execute_reply.started": "2024-07-03T18:31:35.101865Z",
          "shell.execute_reply": "2024-07-03T18:32:26.625961Z"
        },
        "trusted": true
      },
      "execution_count": null,
      "outputs": []
    },
    {
      "cell_type": "code",
      "source": [
        "from re import VERBOSE\n",
        "from sklearn.tree import DecisionTreeRegressor\n",
        "from sklearn.preprocessing import StandardScaler\n",
        "from sklearn.model_selection import train_test_split, cross_val_score\n",
        "from sklearn.linear_model import LinearRegression\n",
        "from sklearn.tree import DecisionTreeRegressor\n",
        "from sklearn.ensemble import RandomForestRegressor, GradientBoostingRegressor\n",
        "from sklearn.linear_model import Ridge, Lasso, ElasticNet\n",
        "from xgboost import XGBRegressor\n",
        "from lightgbm import LGBMRegressor\n",
        "from sklearn.metrics import mean_squared_error\n",
        "from sklearn.svm import SVR\n",
        "from sklearn.neighbors import KNeighborsRegressor\n",
        "from sklearn.neural_network import MLPRegressor\n",
        "import numpy as np\n",
        "from sklearn.metrics import mean_squared_error, r2_score\n",
        "from sklearn.ensemble import AdaBoostRegressor, ExtraTreesRegressor, BaggingRegressor, StackingRegressor, VotingRegressor\n",
        "from catboost import CatBoostRegressor\n",
        "\n",
        "def all_reg_models(X_train, X_test, y_train, y_test):\n",
        "    # Tanımlanan Modeller\n",
        "    models = {\n",
        "        \"Linear Regression\": LinearRegression(),\n",
        "        \"Decision Tree\": DecisionTreeRegressor(),\n",
        "        \"Random Forest\": RandomForestRegressor(),\n",
        "        \"Gradient Boosting\": GradientBoostingRegressor(),\n",
        "        \"XGBoost\": XGBRegressor(),\n",
        "        \"LightGBM\": LGBMRegressor(verbose = -1),\n",
        "        \"Ridge\": Ridge(),\n",
        "        \"Lasso\": Lasso(),\n",
        "        \"ElasticNet\": ElasticNet(),\n",
        "        \"KNeighborsRegressor\": KNeighborsRegressor(),\n",
        "        \"SVR\": SVR(),\n",
        "        \"MLPRegressor\": MLPRegressor(),\n",
        "        \"AdaBoost\": AdaBoostRegressor(),\n",
        "        \"CatBoost\": CatBoostRegressor(verbose=0),\n",
        "        \"Extra Trees\": ExtraTreesRegressor(),\n",
        "        \"Bagging\": BaggingRegressor()\n",
        "\n",
        "    }\n",
        "\n",
        "    results = {}\n",
        "    for name, model in models.items():\n",
        "        # Modeli eğitme\n",
        "        model.fit(X_train, y_train)\n",
        "        # Test seti üzerinde tahmin yapma\n",
        "        predictions = model.predict(X_test)\n",
        "        # MSE ve R^2 değerlerini hesaplama\n",
        "        mse = mean_squared_error(y_test, predictions)\n",
        "        rmse = np.sqrt(mse)  # MSE'nin karekökünü alarak RMSE hesaplama\n",
        "        r2 = r2_score(y_test, predictions)\n",
        "        # Sonuçları saklama\n",
        "        results[name] = (mse, rmse, r2)\n",
        "\n",
        "    # Sonuçları yazdırma\n",
        "    for name, (mse, rmse, r2) in results.items():\n",
        "        print(f\"{name}: Average RMSE: {rmse:.2f}\")\n",
        "        print(f\"{name}: R2: {r2:.2f}\")\n",
        "\n",
        "    # En iyi modeli bulma (En düşük MSE'ye göre)\n",
        "    best_model_name = min(results, key=lambda x: results[x][0])\n",
        "    best_model_mse, best_model_rmse, best_model_r2 = results[best_model_name]\n",
        "    print(50*\"*\")\n",
        "    print(f\"\\nBest Performing Model: {best_model_name} with Average RMSE: {best_model_rmse:.2f} and R2: {best_model_r2:.2f}\")"
      ],
      "metadata": {
        "id": "4aDgR3PqjhTd",
        "execution": {
          "iopub.status.busy": "2024-07-03T18:32:52.009801Z",
          "iopub.execute_input": "2024-07-03T18:32:52.010284Z",
          "iopub.status.idle": "2024-07-03T18:32:52.038522Z",
          "shell.execute_reply.started": "2024-07-03T18:32:52.010246Z",
          "shell.execute_reply": "2024-07-03T18:32:52.037167Z"
        },
        "trusted": true
      },
      "execution_count": null,
      "outputs": []
    },
    {
      "cell_type": "code",
      "source": [
        "all_reg_models(X_train,X_test,y_train,y_test)"
      ],
      "metadata": {
        "id": "kQY-q-4CkHFr",
        "execution": {
          "iopub.status.busy": "2024-07-03T18:33:36.027766Z",
          "iopub.execute_input": "2024-07-03T18:33:36.028295Z",
          "iopub.status.idle": "2024-07-03T18:33:39.502055Z",
          "shell.execute_reply.started": "2024-07-03T18:33:36.028255Z",
          "shell.execute_reply": "2024-07-03T18:33:39.500661Z"
        },
        "trusted": true
      },
      "execution_count": null,
      "outputs": []
    },
    {
      "cell_type": "code",
      "source": [
        "import xgboost as xgb\n",
        "model = xgb.XGBRegressor()\n",
        "# Modeli eğitin\n",
        "model.fit(X, y)\n",
        "# Öznitelik önemlerini alın\n",
        "importance = model.feature_importances_\n",
        "# Öznitelikleri isimleriyle eşleştirin\n",
        "feature_names = X.columns\n",
        "feature_importance = pd.Series(importance, index=feature_names).sort_values(ascending=False)\n",
        "# Öznitelik önemlerini görselleştirin\n",
        "plt.figure(figsize=(10, 6))\n",
        "sns.barplot(x=feature_importance, y=feature_importance.index)\n",
        "plt.xlabel('Öznitelik Önemi Skoru')\n",
        "plt.ylabel('Öznitelikler')\n",
        "plt.title('Gradient Boosting Regresyon Modeli Öznitelik Önemleri')\n",
        "plt.show()"
      ],
      "metadata": {
        "id": "zfgxuU6UEDSM",
        "execution": {
          "iopub.status.busy": "2024-07-03T18:34:01.964286Z",
          "iopub.execute_input": "2024-07-03T18:34:01.96473Z",
          "iopub.status.idle": "2024-07-03T18:34:02.499754Z",
          "shell.execute_reply.started": "2024-07-03T18:34:01.964697Z",
          "shell.execute_reply": "2024-07-03T18:34:02.498436Z"
        },
        "trusted": true
      },
      "execution_count": null,
      "outputs": []
    }
  ]
}